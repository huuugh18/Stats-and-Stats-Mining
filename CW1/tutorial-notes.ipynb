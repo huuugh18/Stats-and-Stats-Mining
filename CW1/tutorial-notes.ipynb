{
 "metadata": {
  "language_info": {
   "codemirror_mode": {
    "name": "ipython",
    "version": 3
   },
   "file_extension": ".py",
   "mimetype": "text/x-python",
   "name": "python",
   "nbconvert_exporter": "python",
   "pygments_lexer": "ipython3",
   "version": "3.9.1"
  },
  "orig_nbformat": 2,
  "kernelspec": {
   "name": "python391jvsc74a57bd0ac59ebe37160ed0dfa835113d9b8498d9f09ceb179beaac4002f036b9467c963",
   "display_name": "Python 3.9.1 64-bit"
  },
  "metadata": {
   "interpreter": {
    "hash": "ac59ebe37160ed0dfa835113d9b8498d9f09ceb179beaac4002f036b9467c963"
   }
  }
 },
 "nbformat": 4,
 "nbformat_minor": 2,
 "cells": [
  {
   "source": [
    "pseudo code pt.1\n",
    "- load data\n",
    "- split data - test and train\n",
    "- train model to predict level 1 using description\n",
    "- save model  \n",
    "- select all cat a: train model and save  \n",
    "- select all cat b: train model and save  \n",
    "- select all cat c: train model and save  \n",
    "\n",
    "model training complete - i have four saved models  \n",
    "\n",
    "pseudo code pt.2 \n",
    "\n",
    "- load test set  \n",
    "- predict level 1 cat with model 1  \n",
    "- if cat is a use model 2 to predict level 2 else  \n",
    "- if cat is b use model 3 to predict level 2 else\n",
    "- if cat is c use model 4 to predict level 2 \n",
    "\n",
    "- combine predictions from different models\n",
    "- give accuracy score for level 1 predictions\n",
    "- give accuracy score for level 2 predictions\n"
   ],
   "cell_type": "markdown",
   "metadata": {}
  },
  {
   "cell_type": "code",
   "execution_count": 8,
   "metadata": {},
   "outputs": [],
   "source": [
    "from sklearn.feature_extraction.text import CountVectorizer\n",
    "from scipy.spatial import distance_matrix\n",
    "from scipy.spatial.distance import pdist, squareform\n",
    "from sklearn.model_selection import train_test_split\n",
    "\n",
    "import nltk\n",
    "from nltk.stem import PorterStemmer\n",
    "\n",
    "import re\n",
    "import numpy as np\n",
    "import pandas as pd"
   ]
  },
  {
   "cell_type": "code",
   "execution_count": 2,
   "metadata": {},
   "outputs": [],
   "source": [
    "data = pd.read_csv('product-cat-dataset.csv')"
   ]
  },
  {
   "cell_type": "code",
   "execution_count": 6,
   "metadata": {},
   "outputs": [
    {
     "output_type": "execute_result",
     "data": {
      "text/plain": [
       "                                         Description   Level_1 Level_2 Level_3\n",
       "0  gerb cap help keep littl on head cov warm day ...  09BF5150   C7E19    D06E\n",
       "1  newborn inf toddl boy hoody jacket oshkosh b g...  2CEC27F1   ADAD6    98CF\n",
       "2  tut ballet anym leap foxy fash ruffl tul toddl...  09BF5150   C7E19    D06E\n",
       "3  newborn inf toddl boy hoody jacket oshkosh b g...  2CEC27F1   ADAD6    98CF\n",
       "4  easy keep feel warm cozy inf toddl girl hoody ...  2CEC27F1   ADAD6    98CF"
      ],
      "text/html": "<div>\n<style scoped>\n    .dataframe tbody tr th:only-of-type {\n        vertical-align: middle;\n    }\n\n    .dataframe tbody tr th {\n        vertical-align: top;\n    }\n\n    .dataframe thead th {\n        text-align: right;\n    }\n</style>\n<table border=\"1\" class=\"dataframe\">\n  <thead>\n    <tr style=\"text-align: right;\">\n      <th></th>\n      <th>Description</th>\n      <th>Level_1</th>\n      <th>Level_2</th>\n      <th>Level_3</th>\n    </tr>\n  </thead>\n  <tbody>\n    <tr>\n      <th>0</th>\n      <td>gerb cap help keep littl on head cov warm day ...</td>\n      <td>09BF5150</td>\n      <td>C7E19</td>\n      <td>D06E</td>\n    </tr>\n    <tr>\n      <th>1</th>\n      <td>newborn inf toddl boy hoody jacket oshkosh b g...</td>\n      <td>2CEC27F1</td>\n      <td>ADAD6</td>\n      <td>98CF</td>\n    </tr>\n    <tr>\n      <th>2</th>\n      <td>tut ballet anym leap foxy fash ruffl tul toddl...</td>\n      <td>09BF5150</td>\n      <td>C7E19</td>\n      <td>D06E</td>\n    </tr>\n    <tr>\n      <th>3</th>\n      <td>newborn inf toddl boy hoody jacket oshkosh b g...</td>\n      <td>2CEC27F1</td>\n      <td>ADAD6</td>\n      <td>98CF</td>\n    </tr>\n    <tr>\n      <th>4</th>\n      <td>easy keep feel warm cozy inf toddl girl hoody ...</td>\n      <td>2CEC27F1</td>\n      <td>ADAD6</td>\n      <td>98CF</td>\n    </tr>\n  </tbody>\n</table>\n</div>"
     },
     "metadata": {},
     "execution_count": 6
    }
   ],
   "source": [
    "df = pd.DataFrame(data)\n",
    "\n",
    "df.head() "
   ]
  },
  {
   "cell_type": "code",
   "execution_count": 13,
   "metadata": {},
   "outputs": [
    {
     "output_type": "stream",
     "name": "stdout",
     "text": [
      "(8519, 4)\n"
     ]
    },
    {
     "output_type": "execute_result",
     "data": {
      "text/plain": [
       "(2130, 4)"
      ]
     },
     "metadata": {},
     "execution_count": 13
    }
   ],
   "source": [
    "# randomly splits - setting random_state keeps same randomization each time, keep results consistent\n",
    "train, test = train_test_split(data, test_size=0.2, random_state=1811)\n",
    "print(train.shape)\n",
    "test.shape"
   ]
  },
  {
   "cell_type": "code",
   "execution_count": 12,
   "metadata": {},
   "outputs": [
    {
     "output_type": "execute_result",
     "data": {
      "text/plain": [
       "                                             Description   Level_1 Level_2  \\\n",
       "10530  term 12 issu on year subscriptionyo sav 70 cov...  90A8B052   C719A   \n",
       "7073   repres spirit beauty way sterl silv cross pend...  96F95EEC   A04D3   \n",
       "5482       rock n rol fantasy tee retro elect guit graph  4513C920   F4055   \n",
       "1921   bon 1 silicon sleev includ bpa fre activeflow ...  69286F45   2D5A3   \n",
       "2101   med flow work best inf 4 12 month compat medel...  69286F45   2D5A3   \n",
       "\n",
       "      Level_3  \n",
       "10530    A0E2  \n",
       "7073     C5B4  \n",
       "5482     7C00  \n",
       "1921     28A7  \n",
       "2101     28A7  "
      ],
      "text/html": "<div>\n<style scoped>\n    .dataframe tbody tr th:only-of-type {\n        vertical-align: middle;\n    }\n\n    .dataframe tbody tr th {\n        vertical-align: top;\n    }\n\n    .dataframe thead th {\n        text-align: right;\n    }\n</style>\n<table border=\"1\" class=\"dataframe\">\n  <thead>\n    <tr style=\"text-align: right;\">\n      <th></th>\n      <th>Description</th>\n      <th>Level_1</th>\n      <th>Level_2</th>\n      <th>Level_3</th>\n    </tr>\n  </thead>\n  <tbody>\n    <tr>\n      <th>10530</th>\n      <td>term 12 issu on year subscriptionyo sav 70 cov...</td>\n      <td>90A8B052</td>\n      <td>C719A</td>\n      <td>A0E2</td>\n    </tr>\n    <tr>\n      <th>7073</th>\n      <td>repres spirit beauty way sterl silv cross pend...</td>\n      <td>96F95EEC</td>\n      <td>A04D3</td>\n      <td>C5B4</td>\n    </tr>\n    <tr>\n      <th>5482</th>\n      <td>rock n rol fantasy tee retro elect guit graph</td>\n      <td>4513C920</td>\n      <td>F4055</td>\n      <td>7C00</td>\n    </tr>\n    <tr>\n      <th>1921</th>\n      <td>bon 1 silicon sleev includ bpa fre activeflow ...</td>\n      <td>69286F45</td>\n      <td>2D5A3</td>\n      <td>28A7</td>\n    </tr>\n    <tr>\n      <th>2101</th>\n      <td>med flow work best inf 4 12 month compat medel...</td>\n      <td>69286F45</td>\n      <td>2D5A3</td>\n      <td>28A7</td>\n    </tr>\n  </tbody>\n</table>\n</div>"
     },
     "metadata": {},
     "execution_count": 12
    }
   ],
   "source": [
    "train.head()\n",
    "#don't have classification level data "
   ]
  },
  {
   "cell_type": "code",
   "execution_count": null,
   "metadata": {},
   "outputs": [],
   "source": [
    "class1 = train['Level_1'].astype(str)\n",
    "class2 = train['Level_2'].astype(str)"
   ]
  },
  {
   "cell_type": "code",
   "execution_count": null,
   "metadata": {},
   "outputs": [],
   "source": [
    "#create model\n",
    "#decision tree classifier - max decision you can have is 5 with max_depth\n",
    "%%time\n",
    "tree = DecisionTreeClassifier(max_depth=5)\n",
    "\n",
    "#train or fit model on level 1 classification using data from info cols (in our case description)\n",
    "tree.fit(train[['x', 'xx', 'xxx', 'xxxx']], class1)"
   ]
  },
  {
   "cell_type": "code",
   "execution_count": null,
   "metadata": {},
   "outputs": [],
   "source": [
    "#savel level 1 classifier\n",
    "with open('level1.px', 'wb') as cls:\n",
    "    pickle.dump(tree, cls)"
   ]
  },
  {
   "cell_type": "code",
   "execution_count": null,
   "metadata": {},
   "outputs": [],
   "source": [
    "#now fitting models for the level 2 data\n",
    "# want to split test data into sub data for each classification e.g. \n",
    "\n",
    "x = list(class1[class1 == 'A'].index)\n",
    "#get all class1 A subset of data\n",
    "\n",
    "train.loc[x, ['x', 'xx', 'xxx', 'xxxx', 'level_1']]"
   ]
  },
  {
   "cell_type": "code",
   "execution_count": null,
   "metadata": {},
   "outputs": [],
   "source": [
    "class2[x]"
   ]
  },
  {
   "cell_type": "code",
   "execution_count": null,
   "metadata": {},
   "outputs": [],
   "source": [
    "#run another model\n",
    "tree = DecisionTreeClassifier(max_depth=5)\n",
    "tree.fit(train.loc[x,['x', 'xx', 'xxx', 'xxxx']], class2[x])\n",
    "\n",
    "#save level 2a classifier\n",
    "with open('level2_a')"
   ]
  },
  {
   "cell_type": "code",
   "execution_count": null,
   "metadata": {},
   "outputs": [],
   "source": [
    "#load model\n",
    "with open('level1.pk', 'rb') as nb:\n",
    "    model = pickle.load(nb)\n",
    "\n",
    "#use loaded model to make predictions\n",
    "level1_pred = model.predict(test[['x', 'xx', 'xxx', 'xxxx']])\n",
    "\n",
    "#take a loot at predictions\n",
    "level1_pred\n",
    "\n",
    "#use accurascy score to test actual vs predict to model\n",
    "accurascy(test[['level_1']], level1_pred)"
   ]
  }
 ]
}