{
 "cells": [
  {
   "cell_type": "code",
   "execution_count": 2,
   "metadata": {},
   "outputs": [],
   "source": [
    "import pandas as pd\n",
    "\n",
    "\n",
    "import pickle\n",
    "from sklearn.model_selection import train_test_split\n",
    "from sklearn.naive_bayes import GaussianNB\n",
    "from sklearn.tree import DecisionTreeClassifier\n",
    "\n",
    "from sklearn.metrics import accuracy_score"
   ]
  },
  {
   "cell_type": "code",
   "execution_count": 3,
   "metadata": {},
   "outputs": [],
   "source": [
    "data = pd.read_csv('tutorial_sample_data.csv')"
   ]
  },
  {
   "cell_type": "code",
   "execution_count": 4,
   "metadata": {},
   "outputs": [
    {
     "output_type": "execute_result",
     "data": {
      "text/plain": [
       "    x  xx  xxx  xxxx  xxxxx level_1 level_2\n",
       "0  23  42   17    36     23       A       X\n",
       "1  40  11    2    41     36       A       X\n",
       "2  50  32   12    21     25       A       X\n",
       "3  49  31   48    17     49       A       Y\n",
       "4   9  33   24    39      4       A       Y"
      ],
      "text/html": "<div>\n<style scoped>\n    .dataframe tbody tr th:only-of-type {\n        vertical-align: middle;\n    }\n\n    .dataframe tbody tr th {\n        vertical-align: top;\n    }\n\n    .dataframe thead th {\n        text-align: right;\n    }\n</style>\n<table border=\"1\" class=\"dataframe\">\n  <thead>\n    <tr style=\"text-align: right;\">\n      <th></th>\n      <th>x</th>\n      <th>xx</th>\n      <th>xxx</th>\n      <th>xxxx</th>\n      <th>xxxxx</th>\n      <th>level_1</th>\n      <th>level_2</th>\n    </tr>\n  </thead>\n  <tbody>\n    <tr>\n      <th>0</th>\n      <td>23</td>\n      <td>42</td>\n      <td>17</td>\n      <td>36</td>\n      <td>23</td>\n      <td>A</td>\n      <td>X</td>\n    </tr>\n    <tr>\n      <th>1</th>\n      <td>40</td>\n      <td>11</td>\n      <td>2</td>\n      <td>41</td>\n      <td>36</td>\n      <td>A</td>\n      <td>X</td>\n    </tr>\n    <tr>\n      <th>2</th>\n      <td>50</td>\n      <td>32</td>\n      <td>12</td>\n      <td>21</td>\n      <td>25</td>\n      <td>A</td>\n      <td>X</td>\n    </tr>\n    <tr>\n      <th>3</th>\n      <td>49</td>\n      <td>31</td>\n      <td>48</td>\n      <td>17</td>\n      <td>49</td>\n      <td>A</td>\n      <td>Y</td>\n    </tr>\n    <tr>\n      <th>4</th>\n      <td>9</td>\n      <td>33</td>\n      <td>24</td>\n      <td>39</td>\n      <td>4</td>\n      <td>A</td>\n      <td>Y</td>\n    </tr>\n  </tbody>\n</table>\n</div>"
     },
     "metadata": {},
     "execution_count": 4
    }
   ],
   "source": [
    "data.head()"
   ]
  },
  {
   "cell_type": "code",
   "execution_count": 5,
   "metadata": {},
   "outputs": [],
   "source": [
    "train, test = train_test_split(data, test_size=0.2, random_state=1811)\n"
   ]
  },
  {
   "cell_type": "code",
   "execution_count": 6,
   "metadata": {},
   "outputs": [
    {
     "output_type": "execute_result",
     "data": {
      "text/plain": [
       "(10, 7)"
      ]
     },
     "metadata": {},
     "execution_count": 6
    }
   ],
   "source": [
    "train.shape\n",
    "test.shape"
   ]
  },
  {
   "cell_type": "code",
   "execution_count": 7,
   "metadata": {},
   "outputs": [
    {
     "output_type": "execute_result",
     "data": {
      "text/plain": [
       "     x  xx  xxx  xxxx  xxxxx level_1 level_2\n",
       "6   21  22   21    50     12       A       Y\n",
       "42  17  23   23    37     28       C       G\n",
       "14  41  15   41    14      6       B       P\n",
       "30  33  20   19    34      2       B       R\n",
       "40   3  50    4     1      7       C       G"
      ],
      "text/html": "<div>\n<style scoped>\n    .dataframe tbody tr th:only-of-type {\n        vertical-align: middle;\n    }\n\n    .dataframe tbody tr th {\n        vertical-align: top;\n    }\n\n    .dataframe thead th {\n        text-align: right;\n    }\n</style>\n<table border=\"1\" class=\"dataframe\">\n  <thead>\n    <tr style=\"text-align: right;\">\n      <th></th>\n      <th>x</th>\n      <th>xx</th>\n      <th>xxx</th>\n      <th>xxxx</th>\n      <th>xxxxx</th>\n      <th>level_1</th>\n      <th>level_2</th>\n    </tr>\n  </thead>\n  <tbody>\n    <tr>\n      <th>6</th>\n      <td>21</td>\n      <td>22</td>\n      <td>21</td>\n      <td>50</td>\n      <td>12</td>\n      <td>A</td>\n      <td>Y</td>\n    </tr>\n    <tr>\n      <th>42</th>\n      <td>17</td>\n      <td>23</td>\n      <td>23</td>\n      <td>37</td>\n      <td>28</td>\n      <td>C</td>\n      <td>G</td>\n    </tr>\n    <tr>\n      <th>14</th>\n      <td>41</td>\n      <td>15</td>\n      <td>41</td>\n      <td>14</td>\n      <td>6</td>\n      <td>B</td>\n      <td>P</td>\n    </tr>\n    <tr>\n      <th>30</th>\n      <td>33</td>\n      <td>20</td>\n      <td>19</td>\n      <td>34</td>\n      <td>2</td>\n      <td>B</td>\n      <td>R</td>\n    </tr>\n    <tr>\n      <th>40</th>\n      <td>3</td>\n      <td>50</td>\n      <td>4</td>\n      <td>1</td>\n      <td>7</td>\n      <td>C</td>\n      <td>G</td>\n    </tr>\n  </tbody>\n</table>\n</div>"
     },
     "metadata": {},
     "execution_count": 7
    }
   ],
   "source": [
    "train.head()\n",
    "# Notice we have more data than we want right now\n",
    "# as we do not want the level1 or level 2 cols being used by the models"
   ]
  },
  {
   "cell_type": "code",
   "execution_count": 8,
   "metadata": {},
   "outputs": [],
   "source": [
    "class1 = train['level_1'].astype(str)\n",
    "class2 = train['level_2'].astype(str)"
   ]
  },
  {
   "cell_type": "code",
   "execution_count": 9,
   "metadata": {},
   "outputs": [
    {
     "output_type": "stream",
     "name": "stdout",
     "text": [
      "Wall time: 5.04 ms\n"
     ]
    },
    {
     "output_type": "execute_result",
     "data": {
      "text/plain": [
       "DecisionTreeClassifier(max_depth=5)"
      ]
     },
     "metadata": {},
     "execution_count": 9
    }
   ],
   "source": [
    "%%time\n",
    "# create model\n",
    "tree = DecisionTreeClassifier(max_depth=5)\n",
    "\n",
    "# train or fit the model on the level 1 classifications using the data from the information cols.\n",
    "tree.fit(train[['x', 'xx','xxx','xxxx','xxxxx']], class1)\n"
   ]
  },
  {
   "cell_type": "code",
   "execution_count": 10,
   "metadata": {},
   "outputs": [],
   "source": [
    "# save level 1 classifier\n",
    "with open('level1.pk', 'wb') as cls:\n",
    "    pickle.dump(tree, cls)"
   ]
  },
  {
   "cell_type": "code",
   "execution_count": 11,
   "metadata": {},
   "outputs": [
    {
     "output_type": "stream",
     "name": "stdout",
     "text": [
      "This is a list of the indexes for when the train set has a level 1 class of A\n"
     ]
    },
    {
     "output_type": "execute_result",
     "data": {
      "text/plain": [
       "[6, 3, 5, 0, 7, 9]"
      ]
     },
     "metadata": {},
     "execution_count": 11
    }
   ],
   "source": [
    "# in this space you will be fitting models for the level 2 data \n",
    "#so you will want to split the test data into sub data for each classification e.g.\n",
    "\n",
    "x = list(class1[class1 == 'A'].index)\n",
    "\n",
    "print('This is a list of the indexes for when the train set has a level 1 class of A')\n",
    "x"
   ]
  },
  {
   "cell_type": "code",
   "execution_count": 20,
   "metadata": {},
   "outputs": [
    {
     "output_type": "execute_result",
     "data": {
      "text/plain": [
       "    x  xx  xxx  xxxx  xxxxx level_1 level_2\n",
       "6  21  22   21    50     12       A       Y\n",
       "3  49  31   48    17     49       A       Y\n",
       "5  44  45   31    13     47       A       Y\n",
       "0  23  42   17    36     23       A       X\n",
       "7  47  18    1    44      3       A       Z\n",
       "9  19  16   50    35     27       A       Z"
      ],
      "text/html": "<div>\n<style scoped>\n    .dataframe tbody tr th:only-of-type {\n        vertical-align: middle;\n    }\n\n    .dataframe tbody tr th {\n        vertical-align: top;\n    }\n\n    .dataframe thead th {\n        text-align: right;\n    }\n</style>\n<table border=\"1\" class=\"dataframe\">\n  <thead>\n    <tr style=\"text-align: right;\">\n      <th></th>\n      <th>x</th>\n      <th>xx</th>\n      <th>xxx</th>\n      <th>xxxx</th>\n      <th>xxxxx</th>\n      <th>level_1</th>\n      <th>level_2</th>\n    </tr>\n  </thead>\n  <tbody>\n    <tr>\n      <th>6</th>\n      <td>21</td>\n      <td>22</td>\n      <td>21</td>\n      <td>50</td>\n      <td>12</td>\n      <td>A</td>\n      <td>Y</td>\n    </tr>\n    <tr>\n      <th>3</th>\n      <td>49</td>\n      <td>31</td>\n      <td>48</td>\n      <td>17</td>\n      <td>49</td>\n      <td>A</td>\n      <td>Y</td>\n    </tr>\n    <tr>\n      <th>5</th>\n      <td>44</td>\n      <td>45</td>\n      <td>31</td>\n      <td>13</td>\n      <td>47</td>\n      <td>A</td>\n      <td>Y</td>\n    </tr>\n    <tr>\n      <th>0</th>\n      <td>23</td>\n      <td>42</td>\n      <td>17</td>\n      <td>36</td>\n      <td>23</td>\n      <td>A</td>\n      <td>X</td>\n    </tr>\n    <tr>\n      <th>7</th>\n      <td>47</td>\n      <td>18</td>\n      <td>1</td>\n      <td>44</td>\n      <td>3</td>\n      <td>A</td>\n      <td>Z</td>\n    </tr>\n    <tr>\n      <th>9</th>\n      <td>19</td>\n      <td>16</td>\n      <td>50</td>\n      <td>35</td>\n      <td>27</td>\n      <td>A</td>\n      <td>Z</td>\n    </tr>\n  </tbody>\n</table>\n</div>"
     },
     "metadata": {},
     "execution_count": 20
    }
   ],
   "source": [
    "train.loc[x,['x', 'xx','xxx','xxxx','xxxxx']]\n",
    "train.loc[x, :]\n",
    "\n",
    "# returns all the data for which is level 1 class of A"
   ]
  },
  {
   "cell_type": "code",
   "execution_count": 13,
   "metadata": {},
   "outputs": [
    {
     "output_type": "execute_result",
     "data": {
      "text/plain": [
       "6    Y\n",
       "3    Y\n",
       "5    Y\n",
       "0    X\n",
       "7    Z\n",
       "9    Z\n",
       "Name: level_2, dtype: object"
      ]
     },
     "metadata": {},
     "execution_count": 13
    }
   ],
   "source": [
    "class2[x]\n",
    "\n",
    "#returns all of the Level 2 data for which level 1 class is A"
   ]
  },
  {
   "cell_type": "code",
   "execution_count": 14,
   "metadata": {},
   "outputs": [
    {
     "output_type": "stream",
     "name": "stdout",
     "text": [
      "Wall time: 3.99 ms\n"
     ]
    }
   ],
   "source": [
    "%%time\n",
    "# run another model \n",
    "tree = DecisionTreeClassifier(max_depth=5)\n",
    "#running model on all of train data for which level 1 class is A on level 2 where lvl1 class = A\n",
    "tree.fit(train.loc[x,['x', 'xx','xxx','xxxx','xxxxx']], class2[x])\n",
    "\n",
    "# save level 2A classifier\n",
    "with open('level2_A.pk', 'wb') as cls:\n",
    "    pickle.dump(tree, cls)"
   ]
  },
  {
   "cell_type": "code",
   "execution_count": 15,
   "metadata": {},
   "outputs": [],
   "source": [
    "# load the model\n",
    "with open('level1.pk', 'rb') as nb:\n",
    "    model = pickle.load(nb)"
   ]
  },
  {
   "cell_type": "code",
   "execution_count": 16,
   "metadata": {},
   "outputs": [],
   "source": [
    "# use the loaded model to make predictions\n",
    "\n",
    "level1_pred = model.predict(test[['x', 'xx','xxx','xxxx','xxxxx']])"
   ]
  },
  {
   "cell_type": "code",
   "execution_count": 17,
   "metadata": {},
   "outputs": [
    {
     "output_type": "execute_result",
     "data": {
      "text/plain": [
       "array(['B', 'C', 'A', 'C', 'A', 'B', 'C', 'C', 'C', 'C'], dtype=object)"
      ]
     },
     "metadata": {},
     "execution_count": 17
    }
   ],
   "source": [
    "# take a look at the predictions - note only 10 as that is test set size.\n",
    "level1_pred"
   ]
  },
  {
   "cell_type": "code",
   "execution_count": 18,
   "metadata": {},
   "outputs": [
    {
     "output_type": "execute_result",
     "data": {
      "text/plain": [
       "0.5"
      ]
     },
     "metadata": {},
     "execution_count": 18
    }
   ],
   "source": [
    "# use accuracy_score function to get the scores form test set acutal to the predictions the model made \n",
    "accuracy_score(test[['level_1']], level1_pred)"
   ]
  }
 ],
 "metadata": {
  "kernelspec": {
   "name": "python391jvsc74a57bd0ac59ebe37160ed0dfa835113d9b8498d9f09ceb179beaac4002f036b9467c963",
   "display_name": "Python 3.9.1 64-bit"
  },
  "language_info": {
   "codemirror_mode": {
    "name": "ipython",
    "version": 3
   },
   "file_extension": ".py",
   "mimetype": "text/x-python",
   "name": "python",
   "nbconvert_exporter": "python",
   "pygments_lexer": "ipython3",
   "version": "3.9.1"
  },
  "metadata": {
   "interpreter": {
    "hash": "ac59ebe37160ed0dfa835113d9b8498d9f09ceb179beaac4002f036b9467c963"
   }
  }
 },
 "nbformat": 4,
 "nbformat_minor": 4
}