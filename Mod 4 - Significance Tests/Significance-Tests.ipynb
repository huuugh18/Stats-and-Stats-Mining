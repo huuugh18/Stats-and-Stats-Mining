{
 "cells": [
  {
   "cell_type": "markdown",
   "metadata": {},
   "source": [
    "## Import Libraries"
   ]
  },
  {
   "cell_type": "code",
   "execution_count": 104,
   "metadata": {},
   "outputs": [],
   "source": [
    "from random import randrange\n",
    "import pandas as pd\n",
    "import numpy as np\n",
    "from scipy.stats import ttest_ind\n",
    "from scipy.stats import ttest_1samp\n",
    "from scipy.stats import chi2_contingency\n",
    "from scipy.stats import f_oneway\n",
    "from statsmodels.stats.power import TTestIndPower"
   ]
  },
  {
   "cell_type": "markdown",
   "metadata": {},
   "source": [
    "## One-way One Sample t-Test (team height example from the slides in topic 4 part 2)"
   ]
  },
  {
   "cell_type": "code",
   "execution_count": 121,
   "metadata": {},
   "outputs": [
    {
     "output_type": "stream",
     "name": "stdout",
     "text": [
      "[201, 202, 187, 192, 199, 204, 182, 187, 198, 196, 198, 190, 199, 182, 180, 186, 196, 194]\nAverage player height in our team = 192.94444\nSTD of player height in our team = 7.26079\n"
     ]
    }
   ],
   "source": [
    "## generate some heights for 18 players in our team\n",
    "## Notice that your results can be different as we're generating random numbers\n",
    "team_heights = []\n",
    "for i in range(18):\n",
    "    team_heights.append(randrange(180,205))\n",
    "\n",
    "print(team_heights)\n",
    "print(f\"Average player height in our team = {np.mean(team_heights):.5f}\")\n",
    "print(f\"STD of player height in our team = {np.std(team_heights):.5f}\")"
   ]
  },
  {
   "cell_type": "code",
   "execution_count": 122,
   "metadata": {},
   "outputs": [
    {
     "output_type": "stream",
     "name": "stdout",
     "text": [
      "t Statistic:  -4.574417680290253\np-value for single sided test: 0.00013\n"
     ]
    }
   ],
   "source": [
    "## popmean is the mean player height in the league as was explained in the lecture\n",
    "\n",
    "tscore, pvalue = ttest_1samp(team_heights, popmean=201)\n",
    "print(\"t Statistic: \", tscore)  \n",
    "print(f'p-value for single sided test: {pvalue / 2:.5f}')"
   ]
  },
  {
   "cell_type": "markdown",
   "metadata": {},
   "source": [
    "## One-way Two Sample t-Test (Sleep apnoea events example from the slides in topic 4 part 2)"
   ]
  },
  {
   "cell_type": "code",
   "execution_count": 107,
   "metadata": {},
   "outputs": [
    {
     "output_type": "stream",
     "name": "stdout",
     "text": [
      "[6, 5, 5, 8, 7, 6, 7, 4, 7, 5, 4, 3, 5]\n"
     ]
    }
   ],
   "source": [
    "## generate some numbers for people who followed the diet\n",
    "## Notice that your results can be different as we're generating random numbers\n",
    "diet = []\n",
    "for i in range(13):\n",
    "    diet.append(randrange(3,9))\n",
    "print(diet)"
   ]
  },
  {
   "cell_type": "code",
   "execution_count": 108,
   "metadata": {},
   "outputs": [
    {
     "output_type": "stream",
     "name": "stdout",
     "text": [
      "[7, 9, 5, 6, 8, 5, 7, 6, 6, 9, 8, 9, 7, 8]\n"
     ]
    }
   ],
   "source": [
    "## generate some numbers for people who did not follow the diet\n",
    "## Notice that your results can be different as we're generating random numbers\n",
    "nodiet = []\n",
    "for i in range(14):\n",
    "    nodiet.append(randrange(4,10))\n",
    "print(nodiet)"
   ]
  },
  {
   "cell_type": "code",
   "execution_count": 109,
   "metadata": {},
   "outputs": [
    {
     "output_type": "stream",
     "name": "stdout",
     "text": [
      "p-value for single sided test: 0.00373\n"
     ]
    }
   ],
   "source": [
    "## Run the t-test and extract the p-value\n",
    "## We divide the resulting p-value by 2 beause this is a single-sided t-test\n",
    "## Please read the documentation of the ttest_ind function\n",
    "res = ttest_ind(diet, nodiet, equal_var=False)\n",
    "print(f'p-value for single sided test: {res.pvalue / 2:.5f}')"
   ]
  },
  {
   "cell_type": "markdown",
   "metadata": {},
   "source": [
    "## One-way ANOVA for multiple groups\n",
    "https://docs.scipy.org/doc/scipy/reference/generated/scipy.stats.f_oneway.html\n",
    "\n",
    "Data from: http://www.biostathandbook.com/onewayanova.html\n",
    "\n",
    "Need to interpret the p-value for this test, reject Ho but what does that mean for multiple groups"
   ]
  },
  {
   "cell_type": "code",
   "execution_count": 110,
   "metadata": {},
   "outputs": [
    {
     "output_type": "stream",
     "name": "stdout",
     "text": [
      "p-value for one-sided ANOVA : 0.00028\n"
     ]
    }
   ],
   "source": [
    "tillamook = [0.0571, 0.0813, 0.0831, 0.0976, 0.0817, 0.0859, 0.0735,\n",
    "             0.0659, 0.0923, 0.0836]\n",
    "newport = [0.0873, 0.0662, 0.0672, 0.0819, 0.0749, 0.0649, 0.0835,\n",
    "           0.0725]\n",
    "petersburg = [0.0974, 0.1352, 0.0817, 0.1016, 0.0968, 0.1064, 0.105]\n",
    "magadan = [0.1033, 0.0915, 0.0781, 0.0685, 0.0677, 0.0697, 0.0764,\n",
    "           0.0689]\n",
    "tvarminne = [0.0703, 0.1026, 0.0956, 0.0973, 0.1039, 0.1045]\n",
    "res = f_oneway(tillamook, newport, petersburg, magadan, tvarminne)\n",
    "print(f'p-value for one-sided ANOVA : {res.pvalue :.5f}')"
   ]
  },
  {
   "cell_type": "markdown",
   "metadata": {},
   "source": [
    "## Chi-square test"
   ]
  },
  {
   "cell_type": "code",
   "execution_count": 115,
   "metadata": {},
   "outputs": [],
   "source": [
    "a1 = [8, 6, 6, 4]\n",
    "a2 = [6, 6, 6, 6]\n",
    "a3 = [4, 5, 5, 7]\n",
    "a4 = [5, 6, 6, 7]\n",
    "a5 = [7, 7, 5, 4]\n",
    "a6 = [5, 5, 7, 7]\n",
    "dice = np.array([a1, a2, a3, a4, a5, a6])\n",
    "df = pd.DataFrame(dice, columns=['Exp1','Exp2','Exp3','Exp4'])\n",
    "df.index = ['One','Two','Three','Four','Five','Six']\n",
    "#df.sum(axis=1)"
   ]
  },
  {
   "cell_type": "code",
   "execution_count": 117,
   "metadata": {},
   "outputs": [
    {
     "output_type": "execute_result",
     "data": {
      "text/plain": [
       "       Exp1  Exp2  Exp3  Exp4\n",
       "One       8     6     6     4\n",
       "Two       6     6     6     6\n",
       "Three     4     5     5     7\n",
       "Four      5     6     6     7\n",
       "Five      7     7     5     4\n",
       "Six       5     5     7     7"
      ],
      "text/html": "<div>\n<style scoped>\n    .dataframe tbody tr th:only-of-type {\n        vertical-align: middle;\n    }\n\n    .dataframe tbody tr th {\n        vertical-align: top;\n    }\n\n    .dataframe thead th {\n        text-align: right;\n    }\n</style>\n<table border=\"1\" class=\"dataframe\">\n  <thead>\n    <tr style=\"text-align: right;\">\n      <th></th>\n      <th>Exp1</th>\n      <th>Exp2</th>\n      <th>Exp3</th>\n      <th>Exp4</th>\n    </tr>\n  </thead>\n  <tbody>\n    <tr>\n      <th>One</th>\n      <td>8</td>\n      <td>6</td>\n      <td>6</td>\n      <td>4</td>\n    </tr>\n    <tr>\n      <th>Two</th>\n      <td>6</td>\n      <td>6</td>\n      <td>6</td>\n      <td>6</td>\n    </tr>\n    <tr>\n      <th>Three</th>\n      <td>4</td>\n      <td>5</td>\n      <td>5</td>\n      <td>7</td>\n    </tr>\n    <tr>\n      <th>Four</th>\n      <td>5</td>\n      <td>6</td>\n      <td>6</td>\n      <td>7</td>\n    </tr>\n    <tr>\n      <th>Five</th>\n      <td>7</td>\n      <td>7</td>\n      <td>5</td>\n      <td>4</td>\n    </tr>\n    <tr>\n      <th>Six</th>\n      <td>5</td>\n      <td>5</td>\n      <td>7</td>\n      <td>7</td>\n    </tr>\n  </tbody>\n</table>\n</div>"
     },
     "metadata": {},
     "execution_count": 117
    }
   ],
   "source": [
    "df"
   ]
  },
  {
   "cell_type": "code",
   "execution_count": 113,
   "metadata": {},
   "outputs": [
    {
     "output_type": "stream",
     "name": "stdout",
     "text": [
      "Chi2 Stat =  4.412008281573499\nDegrees of Freedom = 15\np-value = 0.9960426146961657\nContingency Table:\n[[6.   6.   6.   6.  ]\n [6.   6.   6.   6.  ]\n [5.25 5.25 5.25 5.25]\n [6.   6.   6.   6.  ]\n [5.75 5.75 5.75 5.75]\n [6.   6.   6.   6.  ]]\n"
     ]
    }
   ],
   "source": [
    "chi2_stat, p_val, dof, ct = chi2_contingency(dice)\n",
    "print(\"Chi2 Stat = \", chi2_stat)\n",
    "\n",
    "print(\"Degrees of Freedom =\", dof)\n",
    "\n",
    "print(\"p-value =\", p_val)\n",
    "\n",
    "print(\"Contingency Table:\")\n",
    "print(ct)"
   ]
  },
  {
   "cell_type": "markdown",
   "metadata": {},
   "source": [
    "## Power Analysis\n",
    "\n",
    "* Effect Size: The minimum size of the effect that you hope to be able to detect in a statistical test, such as “a 20% improvement in click rates”.\n",
    "* Statistical Power: The probability of detecting a given effect size with a given sample size (i.e. The probability of accepting the alternative hypothesis if it is true).\n",
    "* Sample Size: The number of observations in the sample.\n",
    "* Significance level: The statistical significance level at which the test will be conducted (e.g. alpha. which is often set to 5% or 0.05).\n"
   ]
  },
  {
   "cell_type": "code",
   "execution_count": 114,
   "metadata": {},
   "outputs": [
    {
     "output_type": "stream",
     "name": "stdout",
     "text": [
      "Sample Size: 24.19\n"
     ]
    }
   ],
   "source": [
    "# estimate required sample size using power analysis\n",
    "# parameters for power analysis\n",
    "effect = 0.88\n",
    "power = 0.85\n",
    "alpha = 0.05\n",
    "\n",
    "# perform power analysis\n",
    "pow_analysis = TTestIndPower()\n",
    "result = pow_analysis.solve_power(effect, power=power, alpha=alpha)\n",
    "\n",
    "print(f'Sample Size: {result:.2f}')"
   ]
  },
  {
   "cell_type": "code",
   "execution_count": null,
   "metadata": {},
   "outputs": [],
   "source": []
  }
 ],
 "metadata": {
  "kernelspec": {
   "name": "python391jvsc74a57bd0ac59ebe37160ed0dfa835113d9b8498d9f09ceb179beaac4002f036b9467c963",
   "display_name": "Python 3.9.1 64-bit"
  },
  "language_info": {
   "codemirror_mode": {
    "name": "ipython",
    "version": 3
   },
   "file_extension": ".py",
   "mimetype": "text/x-python",
   "name": "python",
   "nbconvert_exporter": "python",
   "pygments_lexer": "ipython3",
   "version": "3.9.1"
  },
  "metadata": {
   "interpreter": {
    "hash": "ac59ebe37160ed0dfa835113d9b8498d9f09ceb179beaac4002f036b9467c963"
   }
  }
 },
 "nbformat": 4,
 "nbformat_minor": 4
}