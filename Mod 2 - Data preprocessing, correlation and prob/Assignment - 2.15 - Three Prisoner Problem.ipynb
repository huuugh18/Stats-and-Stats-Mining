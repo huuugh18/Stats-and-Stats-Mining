{
 "cells": [
  {
   "cell_type": "markdown",
   "metadata": {},
   "source": [
    "There is a very famous problem called the ‘three prisoner problem’. Try to solve this without looking it up!\n",
    "\n",
    "Consider three prisoners, A, B, and C, who have each been sentenced to death. \n",
    "\n",
    "One of them has been randomly selected to be pardoned but only the guard knows which one. \n",
    "\n",
    "Prisoner A asks the guard to let him know the name of one of the two prisoners to be executed (not including himself) – either B or C – and the guard tells A that B is to be executed. \n",
    "\n",
    "Prisoner A is happy as he thinks that, as either he or C must be pardoned, his probability of survival has increased from 1/3 to 1/2. \n",
    "\n",
    "Prisoner A tells C the news – however, C thinks that while A still only has a 1/3 chance of being pardoned, his own chance has increased to 2/3. Which prisoner is correct?\n",
    "\n",
    "Build a table like this and populate it with probability values. It will make the idea much clearer!\n",
    "\n",
    "[wiki link](https://en.wikipedia.org/wiki/Three_Prisoners_problem)"
   ]
  }
 ],
 "metadata": {
  "kernelspec": {
   "display_name": "Python 3",
   "language": "python",
   "name": "python3"
  },
  "language_info": {
   "codemirror_mode": {
    "name": "ipython",
    "version": 3
   },
   "file_extension": ".py",
   "mimetype": "text/x-python",
   "name": "python",
   "nbconvert_exporter": "python",
   "pygments_lexer": "ipython3",
   "version": "3.8.5"
  }
 },
 "nbformat": 4,
 "nbformat_minor": 4
}
