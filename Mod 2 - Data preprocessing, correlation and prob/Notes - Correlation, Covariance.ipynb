{
 "cells": [
  {
   "cell_type": "markdown",
   "metadata": {},
   "source": [
    "## 2.5 Correlation\n",
    "\n",
    "### Quantifies the strength of a relationship b/w 2 numeric variables\n",
    "- usually interested in the linear correlation b/tw two numeric variables\n",
    "- positive vs negative correlation\n",
    "\n",
    "### Correlation coefficient\n",
    "metric that measures the extent to which variables are associated\n",
    "- +1 = perfect positive correlation\n",
    "- -1 = perfect negative correlation\n",
    "- 0 = no correlation\n",
    "\n",
    "**Correlation Coefficient (r) = Covar(x,y) / sqrt(var(x)*var(y))**\n",
    "\n",
    "### Correlation matrix\n",
    "table where vars shown on both rows and cols - cell vals = correlations b/w vars\n",
    "\n",
    "symmetric around the diagonal\n",
    "\n",
    "diagonal values = 1\n",
    "\n",
    "Can represent this as a **correlation heatmap** \n",
    "\n",
    "### Scatterplot\n",
    "polt which x-axis value of one var and y the other\n",
    "\n",
    "possible to visually inspect if two variables are correlated\n",
    "\n",
    "### Variance \n",
    "#### is the average of the squared beviations from the mean\n",
    "\n",
    "### Covariance\n",
    "#### measure of the extend to which one var varies in concert with anotther\n",
    "*similar magnitude and direction*\n",
    "\n",
    "\n",
    "## Correlation VS Causation\n",
    "\n",
    "Causation is about a statement such as:\n",
    "- action x causes outcome y\n",
    "\n",
    "Correlation is just a relationship\n",
    "\n",
    "Just b/c x and y highly correlated doesn't mean that x causes y or vice versa\n",
    "\n",
    "\n",
    "\n",
    "## Gallery of useful plots in Python\n",
    "[Gallery Examples](https://seaborn.pydata.org/examples/index.html)\n"
   ]
  },
  {
   "cell_type": "code",
   "execution_count": null,
   "metadata": {},
   "outputs": [],
   "source": []
  }
 ],
 "metadata": {
  "kernelspec": {
   "display_name": "Python 3",
   "language": "python",
   "name": "python3"
  },
  "language_info": {
   "codemirror_mode": {
    "name": "ipython",
    "version": 3
   },
   "file_extension": ".py",
   "mimetype": "text/x-python",
   "name": "python",
   "nbconvert_exporter": "python",
   "pygments_lexer": "ipython3",
   "version": "3.8.5"
  }
 },
 "nbformat": 4,
 "nbformat_minor": 4
}
