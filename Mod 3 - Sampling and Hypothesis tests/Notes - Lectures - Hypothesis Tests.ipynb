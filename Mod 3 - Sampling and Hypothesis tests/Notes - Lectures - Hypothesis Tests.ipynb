{
 "metadata": {
  "language_info": {
   "codemirror_mode": {
    "name": "ipython",
    "version": 3
   },
   "file_extension": ".py",
   "mimetype": "text/x-python",
   "name": "python",
   "nbconvert_exporter": "python",
   "pygments_lexer": "ipython3",
   "version": 3
  },
  "orig_nbformat": 2
 },
 "nbformat": 4,
 "nbformat_minor": 2,
 "cells": [
  {
   "source": [
    "# Hpyothesis Tests\n",
    "\n",
    "[Slides](https://dr3vr6j2erh62.cloudfront.net/videostore/dsm030/transcripts/dsm030_rd_topic03_lecture05.pdf)\n",
    "\n"
   ],
   "cell_type": "markdown",
   "metadata": {}
  },
  {
   "source": [
    "## Concepts\n",
    "\n",
    "### Hypothesis  (*significance tests*)\n",
    "\n",
    "- Determine whether random chance is responsible for an observed effect\n",
    "- Start with a hypothesis (A is better than B)\n",
    "- Experiment to test hypothesis\n",
    "\n",
    "Null Hypothesis (Ho): hypothesis that chance is to blame  \n",
    "Alternative Hypothesis (Ha): counterpoint to null - what hope to prove  \n",
    "One-way test: hypothesis test that counts chance results only in one direction  \n",
    "Two-way test: two-directions  \n",
    "\n",
    "### A/B Testing\n",
    "\n",
    "- experiment with 2 groups, one often standard treatment or no treatment at all\n",
    "- **control** standard (or no) treatment\n",
    "\n",
    "**Treatment:** Something (drug, price, web headline) to which a subject is exposed.  \n",
    "**Treatment group:** A group of subjects exposed to a specific treatment.  \n",
    "**Control group:** A group of subjects exposed to no (or standard) treatment.  \n",
    "**Randomization:** The process of randomly assigning subjects to treatments.  \n",
    "**Subjects:** The items (web visitors, patients, etc.) that are exposed to treatments.  \n",
    "**Test statistic:** The metric used to measure the effect of the treatment.\n",
    "\n",
    "- ideally subjects randomized to groups, then difference in groups b/c:\n",
    "    - effect of different treatments\n",
    "    - random chance\n",
    "\n",
    "### Null Hypothesis (Ho)\n",
    "- require proof diff b/w groups not random chance\n",
    "- Ho: assupmtion that the treatments are equivalent, any diff is b/c of chance\n",
    "- hope to prove Ho wrong\n",
    "\n",
    "### Alternative Hypothesis (Ha)\n",
    "- offsetting to Ho\n",
    "- Example:\n",
    "    - Ho: no difference b/w groups A and B\n",
    "    - Ha: there is a difference b/w A and B\n",
    "    - Ho: drug reduces cancer risk by 30% p = 0.30\n",
    "    - Ha: drug does not reduce lung cancer risk by 30% p ≠ 0.30\n",
    "\n",
    "### One-way Hypothesis tests\n",
    "- only care if A better than B in one direction\n",
    "- directional Ha\n",
    "- extreme chance results in only one direction conut toward the p-value\n",
    "\n",
    "### Two-way Hypothesis tests\n",
    "- Ha: A is different from B, in either direction\n",
    "- extreme chance results in both direction count toward the p-value\n",
    "\n",
    "### [Reading Hypothesis Testing](https://www.investopedia.com/terms/h/hypothesistesting.asp)"
   ],
   "cell_type": "markdown",
   "metadata": {}
  },
  {
   "cell_type": "code",
   "execution_count": null,
   "metadata": {},
   "outputs": [],
   "source": []
  }
 ]
}