{
 "metadata": {
  "language_info": {
   "codemirror_mode": {
    "name": "ipython",
    "version": 3
   },
   "file_extension": ".py",
   "mimetype": "text/x-python",
   "name": "python",
   "nbconvert_exporter": "python",
   "pygments_lexer": "ipython3",
   "version": 3
  },
  "orig_nbformat": 2
 },
 "nbformat": 4,
 "nbformat_minor": 2,
 "cells": [
  {
   "source": [
    "[DATA-DISTRIBUTION PT 1 SLIDES](https://dr3vr6j2erh62.cloudfront.net/videostore/dsm030/transcripts/dsm030_rd_topic03_lecture03.pdf)\n",
    "\n",
    "### Normal Distribution (Gaussian distribution)\n",
    "\n",
    "### Standard Normal Distribution\n",
    "- x-axis units in terms of st.devs from mean\n",
    "- subtract point from mean then divide by st.devs\n",
    "- transformed value = z-score\n",
    "\n",
    "### Standardisation\n",
    "\n",
    "### QQ Plots\n",
    "- visually determine how close sample dist to a specified dist. (ie. normal)\n",
    "- x-axis = quantiles of normal dist\n",
    "- y-axis = z-scores\n",
    "\n",
    "\n",
    "### Terms for Normal Distribution\n",
    "- Error: dif b/w data point and predicted or ave. value\n",
    "- Standardize: subtract mean and divide by stdev\n",
    "- Z-Score: result of standardizing individual data point\n",
    "- QQ-Plot: Plot to visualize how close a sample distrution is to specified distribution (ie. a normal distribution)\n",
    "\n",
    "### Long-tailed Distribution\n",
    "- Tail\n",
    "- Skew (right or left)"
   ],
   "cell_type": "markdown",
   "metadata": {}
  },
  {
   "source": [
    "[DATA-DISTRIBUTION PT 2 SLIDES](https://dr3vr6j2erh62.cloudfront.net/videostore/dsm030/transcripts/dsm030_rd_topic03_lecture04.pdf)\n",
    "\n",
    "### Students t-distrubution\n",
    "- normal shaped dist but thicker longer tails\n",
    "- used for sample statistics (means, diff b/w sample means, regression parameters)\n",
    "- **Degrees of Freedom**\n",
    "    - parameter that allows t-dist to adjust for different 'n', stats, and number of groups\n",
    "    - applied to stats calculated from sample data\n",
    "    - **refers to number of values free to vary**\n",
    "    - affects shape of distribution\n",
    "    - \n",
    "    \n",
    "### Binomial distrubution (Bernoulli trial)\n",
    "- Trial: event with discrete outcome\n",
    "- Success: outcome of interest for a trial\n",
    "- Binomial\n",
    "- Binomial Trial: trial with two outcomes\n",
    "- Binomial Distribution: distribution of number of successses in x trials\n",
    "\n",
    "### Chi-square (*ki*) distribution\n",
    "- meauseres the extent to which the results depart from the null expectation of independence (nothing unusual in data, no correlation)\n",
    "- typically concernd with counts of subjects or items falling into categories\n",
    "- **High Chi-square** = differ markedly from expectation\n",
    "- **Low Chi-square** = closely follow expected dist.\n",
    "\n",
    "### Other distributions\n",
    "- **F-dist.:** experiments and linear models\n",
    "- **Poisson dist:** freq. dist of # of events in sampled units of time or space\n",
    "- **Exponential Dist.:** freq. dist of the time or dist. from one event to next\n",
    "- **Weibull Dist.:** generalized version of the exponential dist in which event rate is allowed to shift over time\n",
    "\n",
    "[Probability Dist Reading](https://www.investopedia.com/terms/p/probabilitydistribution.asp)\n",
    "\n",
    "### Takeaways\n",
    "- prob dist depicts the expected outcomes of possible values for a given data generating process\n",
    "- prod dists come in many shapaes with different characteristics as defined by the mean, st.dev, skewness and kurtosis"
   ],
   "cell_type": "markdown",
   "metadata": {}
  }
 ]
}