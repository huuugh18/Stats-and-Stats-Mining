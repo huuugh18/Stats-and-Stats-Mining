{
 "metadata": {
  "language_info": {
   "codemirror_mode": {
    "name": "ipython",
    "version": 3
   },
   "file_extension": ".py",
   "mimetype": "text/x-python",
   "name": "python",
   "nbconvert_exporter": "python",
   "pygments_lexer": "ipython3",
   "version": 3
  },
  "orig_nbformat": 2
 },
 "nbformat": 4,
 "nbformat_minor": 2,
 "cells": [
  {
   "source": [
    "# Resampling, permutation test, p-value and types of errors\n",
    "\n",
    "[Slides](https://dr3vr6j2erh62.cloudfront.net/videostore/dsm030/transcripts/dsm030_rd_topic03_lecture06.pdf)\n",
    "\n"
   ],
   "cell_type": "markdown",
   "metadata": {}
  },
  {
   "source": [
    "## Concepts\n",
    "\n",
    "### Resampling\n",
    "\n",
    "- repeatedly sample values from observed data\n",
    "- goal to assess random variability in a statistic\n",
    "- assess and improve machine-learning models (bagging bootstrapped data)\n",
    "\n",
    "### Permutation Testing (aka randomization test, exact test)\n",
    "Procedure of combining two or more samples together and randomly reallocating all the observations to resamples  \n",
    "**Permute** is to change the orfer of a set of values  \n",
    "\n",
    "#### Process:\n",
    "1. combine results from groups A and B (C, D etc.)\n",
    "2. shuffle combined data and randomly draw (**without replacement**) resample of same size for each group (A, B.. etc.)\n",
    "3. Calculate stat measured from original samples with the resamples and record\n",
    "4. This is one **permutation iteration**\n",
    "5. Repeat R times to yield a **permutation distribution** of the test stat\n",
    "\n",
    "#### Test:\n",
    "- compare observed diff b/w groups with permuted differences\n",
    "- if **observed diff well inside** set of permuted differences then **in the range of what chance might produce**\n",
    "- if **obsereved diff outside** most of the distribution, conclude **chance not responsible**\n",
    "\n",
    "### p-values\n",
    "\n",
    "Statistical significance is how statisticians measure whether an experiment yields a result more extreme than what chance might produce  \n",
    "If result beyound realm of chance variation => statistically significant\n",
    "\n",
    "**p-value:** prob of obtaining results unusual or exterme as observed results  \n",
    "**alpha:** prob threshold of 'unusualness' that results must pass to be statistically significant  \n",
    "**Type 1 Error:** mistakenly conclude an effect is real when its due to chance  \n",
    "**Type 2 Error:** mistaenly conclude effect is due to chance when its real\n",
    "\n",
    "estimate p-value from permutation test => take proportion of times the perm test produces a difference >= observed diff.  \n",
    "\n",
    "### Interpreting p-value\n",
    "\n",
    "**The probability that, given a chance model, results as extreme as the observed results could occur**\n",
    "\n",
    "Ex. 5% or 0.05 p-value often used\n",
    "\n",
    "\n",
    "\n",
    "### [What is a premutation test](https://www.r-bloggers.com/2019/04/what-is-a-permutation-test/)"
   ],
   "cell_type": "markdown",
   "metadata": {}
  }
 ]
}