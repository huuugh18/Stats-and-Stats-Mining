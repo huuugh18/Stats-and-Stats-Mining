{
 "metadata": {
  "language_info": {
   "codemirror_mode": {
    "name": "ipython",
    "version": 3
   },
   "file_extension": ".py",
   "mimetype": "text/x-python",
   "name": "python",
   "nbconvert_exporter": "python",
   "pygments_lexer": "ipython3",
   "version": "3.9.1"
  },
  "orig_nbformat": 2,
  "kernelspec": {
   "name": "python391jvsc74a57bd0ac59ebe37160ed0dfa835113d9b8498d9f09ceb179beaac4002f036b9467c963",
   "display_name": "Python 3.9.1 64-bit"
  },
  "metadata": {
   "interpreter": {
    "hash": "ac59ebe37160ed0dfa835113d9b8498d9f09ceb179beaac4002f036b9467c963"
   }
  }
 },
 "nbformat": 4,
 "nbformat_minor": 2,
 "cells": [
  {
   "source": [
    "Suppose a race is taking place with **five horses**. Nothing is known about them beforehand and betting is opened as to who will win. Suppose that **50 people place bets**. \n",
    "\n",
    "The betting company want to know if any cheating is taking place – that is, **if more people correctly guess the winner and make money than purely due to chance.**\n",
    "\n",
    "1. **What is the null hypothesis?**\n",
    "\n",
    "2. Find the **p-value if 12 people win money** – what does this mean for the null hypothesis (using alpha = 0.05)?"
   ],
   "cell_type": "markdown",
   "metadata": {}
  },
  {
   "source": [
    "1. Null hypothesis is that no cheating is taking place and the amount of winners is due to random chance.\n",
    "\n",
    "2. n = 50, 1/5 chance of winning or 0.2.  so that would be 10 people winning\n",
    "actual result is that 12 people win so slightly over expected. Calculating a p-value will help to determine how likely this is due to random chance or if it is more likely that cheating is taking place\n",
    "\n",
    "The p-value is calculated to be 0.4046 which is well above the alpha value of 0.05 so we fail to rejuct the null hypothesis that no cheating is taking place and the results are due to chance. "
   ],
   "cell_type": "markdown",
   "metadata": {}
  },
  {
   "cell_type": "code",
   "execution_count": 11,
   "metadata": {},
   "outputs": [
    {
     "output_type": "stream",
     "name": "stdout",
     "text": [
      "p-value for single sided test: 0.4046\n"
     ]
    }
   ],
   "source": [
    "import scipy\n",
    "\n",
    "n = 50\n",
    "chance_of_winning = 1/5\n",
    "pop_mean_wins = n*chance_of_winning\n",
    "sample_wins = 12\n",
    "\n",
    "results = np.array([[sample_wins, n - sample_wins], [pop_mean_wins, n - pop_mean_wins]])\n",
    "chi2, p_value, df, _ = scipy.stats.chi2_contingency(results)\n",
    "\n",
    "print(f'p-value for single sided test: {p_value / 2:.4f}')"
   ]
  },
  {
   "cell_type": "code",
   "execution_count": 12,
   "metadata": {},
   "outputs": [
    {
     "output_type": "execute_result",
     "data": {
      "text/plain": [
       "0.28933239501182995"
      ]
     },
     "metadata": {},
     "execution_count": 12
    }
   ],
   "source": [
    "p = scipy.stats.binom_test(x=12, n=50, p=0.2, alternative='greater')\n",
    "\n",
    "p"
   ]
  },
  {
   "cell_type": "code",
   "execution_count": 2,
   "metadata": {},
   "outputs": [
    {
     "output_type": "stream",
     "name": "stdout",
     "text": [
      "Ttest_indResult(statistic=0.7961736694961222, pvalue=0.42688463608002614)\n"
     ]
    }
   ],
   "source": [
    "import numpy as np\n",
    "from scipy.stats import ttest_ind\n",
    "\n",
    "v1 = np.random.normal(size=100)\n",
    "v2 = np.random.normal(size=100)\n",
    "\n",
    "res = ttest_ind(v1,v2)\n",
    "print(res)"
   ]
  },
  {
   "cell_type": "code",
   "execution_count": 1,
   "metadata": {},
   "outputs": [
    {
     "output_type": "stream",
     "name": "stdout",
     "text": [
      "Ttest_1sampResult(statistic=array([1.14436344, 1.95224402]), pvalue=array([0.25803236, 0.05663531]))\n"
     ]
    }
   ],
   "source": [
    "from scipy import stats\n",
    "rvs = stats.norm.rvs(loc = 5, scale = 10, size = (50,2))\n",
    "print(stats.ttest_1samp(rvs,5.0))"
   ]
  },
  {
   "source": [
    "with a p-value of 0.4046 we fail to reject the null hypothesis that no cheating is taking place and that the amount of winners is due to random chance with an alpha = 0.05"
   ],
   "cell_type": "markdown",
   "metadata": {}
  },
  {
   "source": [
    "# Tutor Session Lecture Notes\n",
    "\n",
    "Assuming IID - identically and independentaly distributed - expect 10 people to win\n",
    "Binomial Plots  \n",
    "P(X=r) = nCr*p^r*(1-p)^n-r  \n",
    "## p-value of 0.289  => same as my stats.binom_test\n",
    "\n",
    "model relies on horses having equal chances of winning and everyone thinking they have same chance of winning\n",
    "\n",
    "Why model might not be correct?   \n",
    "\n",
    "independent drawing from the samples - no ones choice of hores affects another - not realistic in hores racing  \n",
    "go to the track with friends they will be swayed by each other\n",
    "\n",
    "Why not Normal distribution?  \n",
    "count data - whole numbers - non-continuous and non negative values  \n",
    "has to stop at 0 so there is a backstop to the distribution at 0  \n"
   ],
   "cell_type": "markdown",
   "metadata": {}
  }
 ]
}