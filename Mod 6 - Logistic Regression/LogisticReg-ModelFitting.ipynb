{
 "cells": [
  {
   "cell_type": "markdown",
   "metadata": {},
   "source": [
    "# Load Input Data"
   ]
  },
  {
   "cell_type": "code",
   "execution_count": 1,
   "metadata": {},
   "outputs": [],
   "source": [
    "import pandas as pd \n",
    "\n",
    "# Loading the diabetes dataset \n",
    "data = pd.read_csv('Diabetes.csv')\n",
    "# Remove rows that contain missing values\n",
    "data = data.dropna()"
   ]
  },
  {
   "cell_type": "code",
   "execution_count": 2,
   "metadata": {},
   "outputs": [],
   "source": [
    "X = data[['Pregnancies', 'Glucose', 'BloodPressure', 'SkinThickness', 'Insulin',\n",
    "       'BMI', 'DiabetesPedigreeFunction', 'Age']]\n",
    "\n",
    "y = data['Outcome']"
   ]
  },
  {
   "cell_type": "code",
   "execution_count": 3,
   "metadata": {},
   "outputs": [
    {
     "data": {
      "text/html": [
       "<div>\n",
       "<style scoped>\n",
       "    .dataframe tbody tr th:only-of-type {\n",
       "        vertical-align: middle;\n",
       "    }\n",
       "\n",
       "    .dataframe tbody tr th {\n",
       "        vertical-align: top;\n",
       "    }\n",
       "\n",
       "    .dataframe thead th {\n",
       "        text-align: right;\n",
       "    }\n",
       "</style>\n",
       "<table border=\"1\" class=\"dataframe\">\n",
       "  <thead>\n",
       "    <tr style=\"text-align: right;\">\n",
       "      <th></th>\n",
       "      <th>Pregnancies</th>\n",
       "      <th>Glucose</th>\n",
       "      <th>BloodPressure</th>\n",
       "      <th>SkinThickness</th>\n",
       "      <th>Insulin</th>\n",
       "      <th>BMI</th>\n",
       "      <th>DiabetesPedigreeFunction</th>\n",
       "      <th>Age</th>\n",
       "    </tr>\n",
       "  </thead>\n",
       "  <tbody>\n",
       "    <tr>\n",
       "      <th>3</th>\n",
       "      <td>1</td>\n",
       "      <td>89.0</td>\n",
       "      <td>66</td>\n",
       "      <td>23</td>\n",
       "      <td>94.0</td>\n",
       "      <td>28.1</td>\n",
       "      <td>0.167</td>\n",
       "      <td>21.0</td>\n",
       "    </tr>\n",
       "    <tr>\n",
       "      <th>4</th>\n",
       "      <td>0</td>\n",
       "      <td>137.0</td>\n",
       "      <td>40</td>\n",
       "      <td>35</td>\n",
       "      <td>168.0</td>\n",
       "      <td>43.1</td>\n",
       "      <td>2.288</td>\n",
       "      <td>33.0</td>\n",
       "    </tr>\n",
       "    <tr>\n",
       "      <th>6</th>\n",
       "      <td>3</td>\n",
       "      <td>78.0</td>\n",
       "      <td>50</td>\n",
       "      <td>32</td>\n",
       "      <td>88.0</td>\n",
       "      <td>31.0</td>\n",
       "      <td>0.248</td>\n",
       "      <td>26.0</td>\n",
       "    </tr>\n",
       "    <tr>\n",
       "      <th>8</th>\n",
       "      <td>2</td>\n",
       "      <td>197.0</td>\n",
       "      <td>70</td>\n",
       "      <td>45</td>\n",
       "      <td>543.0</td>\n",
       "      <td>30.5</td>\n",
       "      <td>0.158</td>\n",
       "      <td>53.0</td>\n",
       "    </tr>\n",
       "    <tr>\n",
       "      <th>13</th>\n",
       "      <td>1</td>\n",
       "      <td>189.0</td>\n",
       "      <td>60</td>\n",
       "      <td>23</td>\n",
       "      <td>846.0</td>\n",
       "      <td>30.1</td>\n",
       "      <td>0.398</td>\n",
       "      <td>59.0</td>\n",
       "    </tr>\n",
       "  </tbody>\n",
       "</table>\n",
       "</div>"
      ],
      "text/plain": [
       "    Pregnancies  Glucose  BloodPressure  SkinThickness  Insulin   BMI  \\\n",
       "3             1     89.0             66             23     94.0  28.1   \n",
       "4             0    137.0             40             35    168.0  43.1   \n",
       "6             3     78.0             50             32     88.0  31.0   \n",
       "8             2    197.0             70             45    543.0  30.5   \n",
       "13            1    189.0             60             23    846.0  30.1   \n",
       "\n",
       "    DiabetesPedigreeFunction   Age  \n",
       "3                      0.167  21.0  \n",
       "4                      2.288  33.0  \n",
       "6                      0.248  26.0  \n",
       "8                      0.158  53.0  \n",
       "13                     0.398  59.0  "
      ]
     },
     "execution_count": 3,
     "metadata": {},
     "output_type": "execute_result"
    }
   ],
   "source": [
    "X.head()"
   ]
  },
  {
   "cell_type": "code",
   "execution_count": 4,
   "metadata": {},
   "outputs": [
    {
     "data": {
      "text/plain": [
       "3      0\n",
       "4      1\n",
       "6      1\n",
       "8      1\n",
       "13     1\n",
       "      ..\n",
       "753    1\n",
       "755    1\n",
       "760    0\n",
       "763    0\n",
       "765    0\n",
       "Name: Outcome, Length: 392, dtype: int64"
      ]
     },
     "execution_count": 4,
     "metadata": {},
     "output_type": "execute_result"
    }
   ],
   "source": [
    "y"
   ]
  },
  {
   "cell_type": "markdown",
   "metadata": {},
   "source": [
    "# Logistic Regression using SKLearn\r\n",
    "\r\n",
    "doesn't give AIC value or p-values  \r\n",
    "must do on own somehow to get these"
   ]
  },
  {
   "cell_type": "code",
   "execution_count": 6,
   "metadata": {},
   "outputs": [
    {
     "name": "stdout",
     "output_type": "stream",
     "text": [
      "[[ 7.94008998e-02  3.80593725e-02 -1.67455926e-03  1.17363332e-02\n",
      "  -7.99509212e-04  7.00803397e-02  9.66705601e-01  3.45888220e-02]] [-9.9182084]\n"
     ]
    }
   ],
   "source": [
    "from sklearn.linear_model import LogisticRegression\r\n",
    "\r\n",
    "clf = LogisticRegression(random_state=0, max_iter = 300).fit(X, y)\r\n",
    "\r\n",
    "# Display the coefficients\r\n",
    "print(clf.coef_, clf.intercept_)"
   ]
  },
  {
   "cell_type": "markdown",
   "metadata": {},
   "source": [
    "# Logistic Regression using StatsModels\r\n",
    "\r\n",
    "Gives a lot more statistical information about the model"
   ]
  },
  {
   "cell_type": "code",
   "execution_count": 9,
   "metadata": {},
   "outputs": [
    {
     "name": "stdout",
     "output_type": "stream",
     "text": [
      "Optimization terminated successfully.\n",
      "         Current function value: 0.563677\n",
      "         Iterations 6\n"
     ]
    }
   ],
   "source": [
    "# importing libraries \n",
    "import statsmodels.api as sm \n",
    "\n",
    "# building the model and fitting the data \n",
    "log_reg = sm.Logit(y, X).fit() "
   ]
  },
  {
   "cell_type": "code",
   "execution_count": 13,
   "metadata": {},
   "outputs": [
    {
     "name": "stdout",
     "output_type": "stream",
     "text": [
      "                           Logit Regression Results                           \n",
      "==============================================================================\n",
      "Dep. Variable:                Outcome   No. Observations:                  392\n",
      "Model:                          Logit   Df Residuals:                      384\n",
      "Method:                           MLE   Df Model:                            7\n",
      "Date:                Sun, 18 Jul 2021   Pseudo R-squ.:                  0.1128\n",
      "Time:                        16:07:14   Log-Likelihood:                -220.96\n",
      "converged:                       True   LL-Null:                       -249.05\n",
      "Covariance Type:            nonrobust   LLR p-value:                 8.717e-10\n",
      "============================================================================================\n",
      "                               coef    std err          z      P>|z|      [0.025      0.975]\n",
      "--------------------------------------------------------------------------------------------\n",
      "Pregnancies                  0.1299      0.049      2.655      0.008       0.034       0.226\n",
      "Glucose                      0.0174      0.005      3.765      0.000       0.008       0.026\n",
      "BloodPressure               -0.0484      0.009     -5.123      0.000      -0.067      -0.030\n",
      "SkinThickness                0.0284      0.015      1.898      0.058      -0.001       0.058\n",
      "Insulin                      0.0019      0.001      1.598      0.110      -0.000       0.004\n",
      "BMI                         -0.0365      0.022     -1.669      0.095      -0.079       0.006\n",
      "DiabetesPedigreeFunction     0.4636      0.344      1.347      0.178      -0.211       1.138\n",
      "Age                          0.0005      0.016      0.031      0.976      -0.031       0.032\n",
      "============================================================================================\n"
     ]
    }
   ],
   "source": [
    "# printing the summary table \r\n",
    "\r\n",
    "# Gives p-values and confid intervals for coefficients\r\n",
    "# if p-value > 0.05 then not a good indicator of the dependent variable\r\n",
    "# if p-value < 0.05 signficant - reject Ho that cofficient is 0\r\n",
    "print(log_reg.summary()) "
   ]
  },
  {
   "cell_type": "code",
   "execution_count": 11,
   "metadata": {},
   "outputs": [
    {
     "name": "stdout",
     "output_type": "stream",
     "text": [
      "                             Results: Logit\n",
      "========================================================================\n",
      "Model:                 Logit              Pseudo R-squared:   0.113     \n",
      "Dependent Variable:    Outcome            AIC:                457.9225  \n",
      "Date:                  2021-07-18 16:04   BIC:                489.6926  \n",
      "No. Observations:      392                Log-Likelihood:     -220.96   \n",
      "Df Model:              7                  LL-Null:            -249.05   \n",
      "Df Residuals:          384                LLR p-value:        8.7167e-10\n",
      "Converged:             1.0000             Scale:              1.0000    \n",
      "No. Iterations:        6.0000                                           \n",
      "------------------------------------------------------------------------\n",
      "                          Coef.  Std.Err.    z    P>|z|   [0.025  0.975]\n",
      "------------------------------------------------------------------------\n",
      "Pregnancies               0.1299   0.0489  2.6554 0.0079  0.0340  0.2258\n",
      "Glucose                   0.0174   0.0046  3.7654 0.0002  0.0084  0.0265\n",
      "BloodPressure            -0.0484   0.0094 -5.1230 0.0000 -0.0669 -0.0299\n",
      "SkinThickness             0.0284   0.0150  1.8983 0.0577 -0.0009  0.0577\n",
      "Insulin                   0.0019   0.0012  1.5979 0.1101 -0.0004  0.0042\n",
      "BMI                      -0.0365   0.0219 -1.6691 0.0951 -0.0794  0.0064\n",
      "DiabetesPedigreeFunction  0.4636   0.3441  1.3473 0.1779 -0.2108  1.1381\n",
      "Age                       0.0005   0.0159  0.0307 0.9755 -0.0307  0.0317\n",
      "========================================================================\n",
      "\n"
     ]
    }
   ],
   "source": [
    "# printing the summary table \r\n",
    "# Gives AIC\r\n",
    "\r\n",
    "print(log_reg.summary2())"
   ]
  },
  {
   "cell_type": "markdown",
   "metadata": {},
   "source": [
    "### Explanation of some of the terms in the summary table:\n",
    "\n",
    "#### Coef: \n",
    "The coefficients of the input variables in the regression equation (remember how to interpret them?).\n",
    "#### Log-Likelihood: \n",
    "The natural logarithm of the Maximum Likelihood Estimation (MLE) function. We mentioned previously that MLE is the optimisation process for finding the set of parameters which result in best fit.\n",
    "#### LL-Null: \n",
    "The value of log-likelihood of the model when no independent variable is included (only an intercept is included).\n",
    "#### Pseudo R-squ.: \n",
    "This is a substitute for the R-squared value in Least Squares linear regression. It is the ratio of the log-likelihood of the null model to that of the full model."
   ]
  },
  {
   "cell_type": "code",
   "execution_count": null,
   "metadata": {},
   "outputs": [],
   "source": []
  }
 ],
 "metadata": {
  "interpreter": {
   "hash": "ac59ebe37160ed0dfa835113d9b8498d9f09ceb179beaac4002f036b9467c963"
  },
  "kernelspec": {
   "display_name": "Python 3.9.1 64-bit",
   "name": "python3"
  },
  "language_info": {
   "codemirror_mode": {
    "name": "ipython",
    "version": 3
   },
   "file_extension": ".py",
   "mimetype": "text/x-python",
   "name": "python",
   "nbconvert_exporter": "python",
   "pygments_lexer": "ipython3",
   "version": "3.9.1"
  }
 },
 "nbformat": 4,
 "nbformat_minor": 4
}