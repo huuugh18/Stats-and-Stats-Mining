{
 "cells": [
  {
   "cell_type": "markdown",
   "metadata": {},
   "source": [
    "# Logistic Regression and the Sigmoid Function"
   ]
  },
  {
   "cell_type": "markdown",
   "metadata": {},
   "source": [
    "<li><b>Linear Regression</b>: Outcome = w<sub>0</sub> + w<sub>1</sub>x<sub>1</sub> \n",
    "+ w<sub>2</sub>x<sub>2</sub> + w<sub>3</sub>x<sub>3</sub> \n",
    "+ … + w<sub>n</sub>x<sub>n</sub><br>\n",
    "where, w is the coefficient and x is the input variable\n",
    "</li>\n",
    "\n",
    "<li><b>Logistic Regression</b>: Approximate Probability = <b>sigmoid</b>(w<sub>0</sub> + w<sub>1</sub>x<sub>1</sub> \n",
    "+ w<sub>2</sub>x<sub>2</sub> + w<sub>3</sub>x<sub>3</sub> \n",
    "+ … + w<sub>n</sub>x<sub>n</sub>)<br>\n",
    "where, w is the coefficient and x is the input variable\n",
    "</li>\n",
    "<li>Output of the linear model is passed through a sigmoid/logistic function to produce the probability.</li>\n",
    "<li><b>Predicted Value</b>: Probability of a binary outcome. Closer to 1 is positive class, closer to 0 is negative class</li>\n",
    "<li><b>Algorithm Used</b>: Logistic Regression. Objective is to find the coefficients w that maximize separation between the two classes</li>\n",
    "<li><b>Optimization</b>: Gradient Descent. Aims to minimize loss/cost so that predicted value is as close as possible to actual</li>\n",
    "<li><b>Cost/Loss Calculation</b>: Logistic loss function</li>\n",
    "</ul>"
   ]
  },
  {
   "cell_type": "code",
   "execution_count": 1,
   "metadata": {},
   "outputs": [],
   "source": [
    "import numpy as np\n",
    "import pandas as pd\n",
    "import matplotlib.pyplot as plt\n"
   ]
  },
  {
   "cell_type": "code",
   "execution_count": 2,
   "metadata": {},
   "outputs": [],
   "source": [
    "# Sigmoid or logistic function\n",
    "# For any input x, the output is always between 0 & 1\n",
    "\n",
    "# Binary classifier uses this function to convert the output produced by a linear model\n",
    "#   into a probability between 0 & 1\n",
    "\n",
    "def sigmoid(x):\n",
    "    return 1.0/(1 + np.exp(-x))"
   ]
  },
  {
   "cell_type": "code",
   "execution_count": 3,
   "metadata": {},
   "outputs": [],
   "source": [
    "# Sigmoid function example\n",
    "x = pd.Series(np.arange(-5,5,0.5))\n",
    "y = x.map(sigmoid)"
   ]
  },
  {
   "cell_type": "code",
   "execution_count": 4,
   "metadata": {},
   "outputs": [
    {
     "data": {
      "text/plain": [
       "0     0.006693\n",
       "1     0.010987\n",
       "2     0.017986\n",
       "3     0.029312\n",
       "4     0.047426\n",
       "5     0.075858\n",
       "6     0.119203\n",
       "7     0.182426\n",
       "8     0.268941\n",
       "9     0.377541\n",
       "10    0.500000\n",
       "11    0.622459\n",
       "12    0.731059\n",
       "13    0.817574\n",
       "14    0.880797\n",
       "15    0.924142\n",
       "16    0.952574\n",
       "17    0.970688\n",
       "18    0.982014\n",
       "19    0.989013\n",
       "dtype: float64"
      ]
     },
     "execution_count": 4,
     "metadata": {},
     "output_type": "execute_result"
    }
   ],
   "source": [
    "y"
   ]
  },
  {
   "cell_type": "markdown",
   "metadata": {},
   "source": [
    "### Notice:\n",
    "Sigmoid function produces an output between 0 and 1.  Input closer to 0 produces and output of 0.5 probability. Negative input produces value less than 0.5 while positive input produces value greater than 0.5"
   ]
  },
  {
   "cell_type": "code",
   "execution_count": 5,
   "metadata": {},
   "outputs": [
    {
     "data": {
      "image/png": "[encoded data removed]",
      "text/plain": [
       "<Figure size 432x288 with 1 Axes>"
      ]
     },
     "metadata": {
      "needs_background": "light"
     },
     "output_type": "display_data"
    }
   ],
   "source": [
    "plt.plot(x,y, linewidth=2.5)\n",
    "plt.axvline(x=0,ymin=0, linewidth=0.5, color='green')\n",
    "plt.axhline(y=0.5,xmin=0, linewidth=0.5, color='green')\n",
    "\n",
    "plt.xlabel('Input')\n",
    "plt.ylabel('Sigmoid output')\n",
    "plt.grid(True)\n",
    "plt.title('Sigmoid')\n",
    "plt.show()"
   ]
  },
  {
   "cell_type": "markdown",
   "metadata": {},
   "source": [
    "## Simple Example"
   ]
  },
  {
   "cell_type": "code",
   "execution_count": 6,
   "metadata": {},
   "outputs": [],
   "source": [
    "## Dataset from https://en.wikipedia.org/wiki/Logistic_regression#Examples\n",
    "study_hours = [0.50,0.75,1.00,1.25,1.50,1.75,1.75,2.00,2.25,2.50,2.75,3.00,3.25,3.50,4.00,4.25,4.50,4.75,5.00,5.50]\n",
    "pass_exam = [0,0,0,0,0,0,1,0,1,0,1,0,1,0,1,1,1,1,1,1]\n",
    "\n",
    "data = pd.DataFrame({'study_hours':study_hours, 'pass_exam':pass_exam})"
   ]
  },
  {
   "cell_type": "code",
   "execution_count": 11,
   "metadata": {},
   "outputs": [
    {
     "data": {
      "text/html": [
       "<div>\n",
       "<style scoped>\n",
       "    .dataframe tbody tr th:only-of-type {\n",
       "        vertical-align: middle;\n",
       "    }\n",
       "\n",
       "    .dataframe tbody tr th {\n",
       "        vertical-align: top;\n",
       "    }\n",
       "\n",
       "    .dataframe thead th {\n",
       "        text-align: right;\n",
       "    }\n",
       "</style>\n",
       "<table border=\"1\" class=\"dataframe\">\n",
       "  <thead>\n",
       "    <tr style=\"text-align: right;\">\n",
       "      <th></th>\n",
       "      <th>study_hours</th>\n",
       "      <th>pass_exam</th>\n",
       "    </tr>\n",
       "  </thead>\n",
       "  <tbody>\n",
       "    <tr>\n",
       "      <th>0</th>\n",
       "      <td>0.50</td>\n",
       "      <td>0</td>\n",
       "    </tr>\n",
       "    <tr>\n",
       "      <th>1</th>\n",
       "      <td>0.75</td>\n",
       "      <td>0</td>\n",
       "    </tr>\n",
       "    <tr>\n",
       "      <th>2</th>\n",
       "      <td>1.00</td>\n",
       "      <td>0</td>\n",
       "    </tr>\n",
       "    <tr>\n",
       "      <th>3</th>\n",
       "      <td>1.25</td>\n",
       "      <td>0</td>\n",
       "    </tr>\n",
       "    <tr>\n",
       "      <th>4</th>\n",
       "      <td>1.50</td>\n",
       "      <td>0</td>\n",
       "    </tr>\n",
       "  </tbody>\n",
       "</table>\n",
       "</div>"
      ],
      "text/plain": [
       "   study_hours  pass_exam\n",
       "0         0.50          0\n",
       "1         0.75          0\n",
       "2         1.00          0\n",
       "3         1.25          0\n",
       "4         1.50          0"
      ]
     },
     "execution_count": 11,
     "metadata": {},
     "output_type": "execute_result"
    }
   ],
   "source": [
    "data.head()"
   ]
  },
  {
   "cell_type": "code",
   "execution_count": 8,
   "metadata": {},
   "outputs": [],
   "source": [
    "# Assume this is the best straight line that can describe the data\n",
    "def linear_model(x):\n",
    "    return 1.5*x - 4"
   ]
  },
  {
   "cell_type": "code",
   "execution_count": 9,
   "metadata": {},
   "outputs": [],
   "source": [
    "# Generate probability by running the input through the linear model and then through sigmoid function\n",
    "y_linear = linear_model(data['study_hours'])\n",
    "\n",
    "y_logistic = sigmoid(y_linear)\n"
   ]
  },
  {
   "cell_type": "code",
   "execution_count": 10,
   "metadata": {},
   "outputs": [
    {
     "data": {
      "image/png": "[encoded data removed]",
      "text/plain": [
       "<Figure size 648x504 with 1 Axes>"
      ]
     },
     "metadata": {
      "needs_background": "light"
     },
     "output_type": "display_data"
    }
   ],
   "source": [
    "plt.rcParams.update({'font.size': 16})\n",
    "plt.figure(1, figsize=(9, 7))\n",
    "plt.clf()\n",
    "plt.scatter(data['study_hours'], data['pass_exam'], color='blue', label = 'Original Data', zorder=20)\n",
    "\n",
    "plt.scatter(data['study_hours'], y_logistic, color='red', label = 'Probability', zorder=20)\n",
    "# or you can plot it as a line\n",
    "plt.plot(data['study_hours'], y_logistic, color='red', label = 'Probability', zorder=20)\n",
    "\n",
    "#plt.plot(data.study_hours, y_linear, linewidth=2, color='green', label = 'Linear', zorder=20)\n",
    "\n",
    "plt.axvline(x=2.65,ymin=0,ymax=1,linewidth=1, color='green')\n",
    "\n",
    "plt.axhline(y=0.5,xmin=0,xmax=6, label='Cutoff at 0.5', linewidth=1, color='green')\n",
    "\n",
    "plt.ylabel('Pass Probability')\n",
    "plt.xlabel('Num of Study Hours')\n",
    "\n",
    "plt.legend()\n",
    "plt.tight_layout()\n",
    "plt.grid()\n",
    "plt.show()"
   ]
  },
  {
   "cell_type": "markdown",
   "metadata": {},
   "source": [
    "### Interpretation\n",
    "At X value of ~2.65, the curve hits 0.5 probability. That means for a student to have a higher probability of passing the exam they would need to spend 2.65 hours or more of studying.\n",
    "\n",
    "In the above example,<br>\n",
    "1. True positive is in the top right quadrant. \n",
    "2. True negative is in the bottom left quadrant. \n",
    "3. False negative is in the top left quadrant. \n",
    "4. False positive is in the bottom right quadrant. \n",
    "\n",
    "The threshold can be adjusted; instead of 0.5, it could be established at a different value depending on the nature of problem (more on this in the Imbalanced Classification Topic)"
   ]
  },
  {
   "cell_type": "code",
   "execution_count": null,
   "metadata": {},
   "outputs": [],
   "source": []
  }
 ],
 "metadata": {
  "interpreter": {
   "hash": "ac59ebe37160ed0dfa835113d9b8498d9f09ceb179beaac4002f036b9467c963"
  },
  "kernelspec": {
   "display_name": "Python 3.9.1 64-bit",
   "name": "python3"
  },
  "language_info": {
   "codemirror_mode": {
    "name": "ipython",
    "version": 3
   },
   "file_extension": ".py",
   "mimetype": "text/x-python",
   "name": "python",
   "nbconvert_exporter": "python",
   "pygments_lexer": "ipython3",
   "version": "3.9.1"
  }
 },
 "nbformat": 4,
 "nbformat_minor": 1
}