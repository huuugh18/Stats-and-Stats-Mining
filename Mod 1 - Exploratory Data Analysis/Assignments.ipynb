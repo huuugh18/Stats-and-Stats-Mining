{
 "cells": [
  {
   "cell_type": "markdown",
   "metadata": {},
   "source": [
    "## Mean median mode activity"
   ]
  },
  {
   "cell_type": "code",
   "execution_count": 9,
   "metadata": {},
   "outputs": [
    {
     "name": "stdout",
     "output_type": "stream",
     "text": [
      "\n",
      "Incomes: \n",
      "Mean:  56.7\n",
      "Mode:  45\n",
      "Median:  48.5\n",
      "\n",
      "Light Hours:\n",
      "Mean:  1811\n",
      "Mode:  2010\n",
      "Median:  1989.0\n"
     ]
    }
   ],
   "source": [
    "import statistics\n",
    "\n",
    "def get_mean_med_mode(data):    \n",
    "    print('Mean: ', statistics.mean(data))\n",
    "    print('Mode: ', statistics.mode(data))\n",
    "    print('Median: ', statistics.median(data))\n",
    "\n",
    "\n",
    "annual_incomes = [45, 52, 38, 90, 45, 36, 70, 100, 85, 6]\n",
    "print('\\nIncomes: ')\n",
    "get_mean_med_mode(annual_incomes)\n",
    "\n",
    "light_hours = [2090, 1900, 2010, 1890, 2010, 1968, 70, 2200, 2012, 1960]\n",
    "print('\\nLight Hours:')\n",
    "get_mean_med_mode(light_hours)\n",
    "\n",
    "\n",
    "\n"
   ]
  },
  {
   "cell_type": "code",
   "execution_count": 13,
   "metadata": {},
   "outputs": [
    {
     "name": "stdout",
     "output_type": "stream",
     "text": [
      "5100 3243\n"
     ]
    },
    {
     "data": {
      "text/plain": [
       "10000"
      ]
     },
     "execution_count": 13,
     "metadata": {},
     "output_type": "execute_result"
    }
   ],
   "source": [
    "height_counts = [13 ,215,1459,3413,3243,1512,135,10]\n",
    "half_way = sum(height_counts[:4])\n",
    "print(half_way, height_counts[4])\n",
    "sum(height_counts)\n",
    "\n",
    "# mode = guess that likely in the 64 - 82 range but can't know for sure\n",
    "# median = somewhere in the range of 64-70 as this is where the count passes 5000\n",
    "# mean = calc weighted means for each height range = middle of range times whatever get something\n",
    "\n"
   ]
  },
  {
   "cell_type": "markdown",
   "metadata": {},
   "source": [
    "## 1.14 Percentiles and quartiles"
   ]
  },
  {
   "cell_type": "code",
   "execution_count": 18,
   "metadata": {},
   "outputs": [
    {
     "name": "stdout",
     "output_type": "stream",
     "text": [
      "10 16.4\n",
      "25 26.5\n",
      "33 32.65\n",
      "50 42.5\n",
      "75 62.5\n",
      "90 74.5\n"
     ]
    }
   ],
   "source": [
    "data = [12, 16, 20, 25, 26, 28, 33, 35, 36, 41, 44, 49, 53, 56, 61, 63, 67, 70, 75, 77]\n",
    "\n",
    "percentiles = statistics.quantiles(data, n=100)\n",
    "search_percentiles = [10, 25, 33, 50, 75, 90]\n",
    "\n",
    "#use p-1 because 0 indexed\n",
    "\n",
    "for p in search_percentiles:\n",
    "    print(p, percentiles[p-1])\n"
   ]
  },
  {
   "cell_type": "markdown",
   "metadata": {},
   "source": [
    "## 1.17 Variance\n",
    "\n"
   ]
  },
  {
   "cell_type": "code",
   "execution_count": 34,
   "metadata": {},
   "outputs": [
    {
     "name": "stdout",
     "output_type": "stream",
     "text": [
      "[45, 52, 38, 90, 45, 36, 70, 100, 85, 60, 1000000000]\n",
      "elon standard deviation: 301511325.8539099\n",
      "elon variance:  9.090907961818264e+16\n",
      "coeffient of variation without elon 37.01330270193411\n",
      "coeffient of variation with elon 331.6622524770421\n"
     ]
    }
   ],
   "source": [
    "import numpy as np\n",
    "\n",
    "data = [45, 52, 38, 90, 45, 36, 70, 100, 85, 60]\n",
    "\n",
    "statistics.stdev(data)\n",
    "#22.98526097790108\n",
    "\n",
    "statistics.variance(data)\n",
    "#528.3222222222222\n",
    "\n",
    "\n",
    "elon_data = data + [1000000000]\n",
    "print(elon_data)\n",
    "\n",
    "print('elon standard deviation:', statistics.stdev(elon_data))\n",
    "# 301511325\n",
    "\n",
    "print('elon variance: ', statistics.variance(elon_data))\n",
    "# 9.090907961818264e+16\n",
    "\n",
    "cv = cv = lambda x: np.std(x, ddof=1) / np.mean(x) * 100 \n",
    "\n",
    "print('coeffient of variation without elon', cv(data))\n",
    "print('coeffient of variation with elon', cv(elon_data))\n",
    "\n",
    "\n",
    "\n"
   ]
  },
  {
   "cell_type": "markdown",
   "metadata": {},
   "source": [
    "Compute the variance and standard deviation of the data.\n",
    "\n",
    "- Standard deviation: 22.985\n",
    "- Variance = 528.32\n",
    "\n",
    "\n",
    "Now, assume that this data is a sample chosen scientifically to help us understand a larger group of pub goers. How do your answers change?\n",
    "\n",
    "- No this does not change anytihng.\n",
    "\n",
    "\n",
    "Along comes Elon Musk with his 14 billion pound annual income. Recompute the values from question 1 to include Elon's income. \n",
    "\n",
    "elon standard deviation: 301511325.8539099\n",
    "elon variance:  9.090907961818264e+16\n",
    "\n",
    "Question 4\n",
    "\n",
    "Compute the coefficient of variation for the data with and without Elon's income.\n",
    "\n",
    "coeffient of variation without elon 37.01330270193411\n",
    "coeffient of variation with elon 331.6622524770421"
   ]
  }
 ],
 "metadata": {
  "kernelspec": {
   "display_name": "Python 3",
   "language": "python",
   "name": "python3"
  },
  "language_info": {
   "codemirror_mode": {
    "name": "ipython",
    "version": 3
   },
   "file_extension": ".py",
   "mimetype": "text/x-python",
   "name": "python",
   "nbconvert_exporter": "python",
   "pygments_lexer": "ipython3",
   "version": "3.8.5"
  }
 },
 "nbformat": 4,
 "nbformat_minor": 4
}
